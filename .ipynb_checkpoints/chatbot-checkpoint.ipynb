{
 "cells": [
  {
   "cell_type": "code",
   "execution_count": 1,
   "id": "d5a2d74a",
   "metadata": {},
   "outputs": [],
   "source": [
    "from typing import Annotated\n",
    "from typing_extensions import TypedDict\n",
    "from langgraph.graph import StateGraph , START, END\n",
    "from langgraph.graph.message import add_messages"
   ]
  },
  {
   "cell_type": "code",
   "execution_count": 2,
   "id": "2a74f69b",
   "metadata": {},
   "outputs": [],
   "source": [
    "class State(TypedDict):\n",
    "    # state which we can access in our whole state graph Annotated add the metadata to the messages , List of messages adding using add_message (which is the reducer function)\n",
    "    messages:Annotated[list, add_messages]"
   ]
  },
  {
   "cell_type": "code",
   "execution_count": 3,
   "id": "67866940",
   "metadata": {},
   "outputs": [],
   "source": [
    "lang_graph=StateGraph[State]"
   ]
  },
  {
   "cell_type": "code",
   "execution_count": 4,
   "id": "a2f75fe3",
   "metadata": {},
   "outputs": [
    {
     "data": {
      "text/plain": [
       "langgraph.graph.state.StateGraph[__main__.State]"
      ]
     },
     "execution_count": 4,
     "metadata": {},
     "output_type": "execute_result"
    }
   ],
   "source": [
    "lang_graph"
   ]
  },
  {
   "cell_type": "code",
   "execution_count": 5,
   "id": "ce1d4e6a",
   "metadata": {},
   "outputs": [
    {
     "data": {
      "text/plain": [
       "True"
      ]
     },
     "execution_count": 5,
     "metadata": {},
     "output_type": "execute_result"
    }
   ],
   "source": [
    "import os \n",
    "from dotenv import load_dotenv\n",
    "load_dotenv()"
   ]
  },
  {
   "cell_type": "code",
   "execution_count": 6,
   "id": "a970a9c7",
   "metadata": {},
   "outputs": [],
   "source": [
    "from langchain_groq import ChatGroq\n",
    "from langchain.chat_models import init_chat_model"
   ]
  },
  {
   "cell_type": "code",
   "execution_count": 7,
   "id": "c148ecc3",
   "metadata": {},
   "outputs": [],
   "source": [
    "llm=ChatGroq(model=\"llama3-70b-8192\")"
   ]
  },
  {
   "cell_type": "code",
   "execution_count": 8,
   "id": "46a4b2a0-ca8e-4314-a2c6-6fef2fab5719",
   "metadata": {},
   "outputs": [
    {
     "data": {
      "text/plain": [
       "ChatGroq(client=<groq.resources.chat.completions.Completions object at 0x10cb7e410>, async_client=<groq.resources.chat.completions.AsyncCompletions object at 0x10cb7e290>, model_name='llama3-70b-8192', model_kwargs={}, groq_api_key=SecretStr('**********'))"
      ]
     },
     "execution_count": 8,
     "metadata": {},
     "output_type": "execute_result"
    }
   ],
   "source": [
    "llm"
   ]
  },
  {
   "cell_type": "code",
   "execution_count": 9,
   "id": "bb43081b-f6ee-4235-962f-52694fb18de9",
   "metadata": {},
   "outputs": [],
   "source": [
    "def chatbot(state:State):\n",
    "    return {\"messages\":[llm.invoke(state[\"messages\"])]}"
   ]
  },
  {
   "cell_type": "code",
   "execution_count": 10,
   "id": "8158bf61-2e50-4751-829e-0d6d813dcfa7",
   "metadata": {},
   "outputs": [],
   "source": [
    "lang_graph=StateGraph(State)"
   ]
  },
  {
   "cell_type": "code",
   "execution_count": 11,
   "id": "83d59ea3-8685-4d4a-abae-a726349aaf3d",
   "metadata": {},
   "outputs": [
    {
     "data": {
      "text/plain": [
       "<langgraph.graph.state.StateGraph at 0x1075facb0>"
      ]
     },
     "execution_count": 11,
     "metadata": {},
     "output_type": "execute_result"
    }
   ],
   "source": [
    "lang_graph.add_node(\"llmchat\",chatbot)\n",
    "lang_graph.add_edge(START,\"llmchat\")\n",
    "lang_graph.add_edge(\"llmchat\",END)"
   ]
  },
  {
   "cell_type": "code",
   "execution_count": 12,
   "id": "261078cf-162e-41b7-a349-7683714248c5",
   "metadata": {},
   "outputs": [],
   "source": [
    "graph=lang_graph.compile()"
   ]
  },
  {
   "cell_type": "code",
   "execution_count": 13,
   "id": "54eba521-6950-4c9d-94ac-408a739f9085",
   "metadata": {},
   "outputs": [
    {
     "data": {
      "image/png": "[encoded data removed]",
      "text/plain": [
       "<IPython.core.display.Image object>"
      ]
     },
     "metadata": {},
     "output_type": "display_data"
    }
   ],
   "source": [
    "from IPython.display import display, Image\n",
    "try:\n",
    "    display(Image(graph.get_graph().draw_mermaid_png()))\n",
    "except Exception:\n",
    "    pass"
   ]
  },
  {
   "cell_type": "code",
   "execution_count": 14,
   "id": "d4d8e560-bb5f-42ba-948f-3f7d2dbd5bfd",
   "metadata": {},
   "outputs": [],
   "source": [
    "response=graph.invoke({\"messages\":\"Hi how are you?\"})"
   ]
  },
  {
   "cell_type": "code",
   "execution_count": 15,
   "id": "0da0cbe5-3ae9-4427-b14c-6858f06aa5ec",
   "metadata": {},
   "outputs": [
    {
     "data": {
      "text/plain": [
       "'I\\'m just a language model, I don\\'t have feelings or emotions like humans do, so I don\\'t have good or bad days. I\\'m always \"on\" and ready to help with any questions or tasks you may have! How can I assist you today?'"
      ]
     },
     "execution_count": 15,
     "metadata": {},
     "output_type": "execute_result"
    }
   ],
   "source": [
    "response[\"messages\"][-1].content"
   ]
  },
  {
   "cell_type": "code",
   "execution_count": 16,
   "id": "e4dd3b51-1c62-4ee3-b106-7b38c1a5f9b2",
   "metadata": {},
   "outputs": [],
   "source": [
    "from langchain_tavily import TavilySearch\n"
   ]
  },
  {
   "cell_type": "code",
   "execution_count": 17,
   "id": "95557051-193c-4d6f-9777-00a64e67c967",
   "metadata": {},
   "outputs": [],
   "source": [
    "search=TavilySearch(max_results=2)"
   ]
  },
  {
   "cell_type": "code",
   "execution_count": 18,
   "id": "cfe41e57-2be9-4894-b266-63c9b8234e5c",
   "metadata": {},
   "outputs": [
    {
     "data": {
      "text/plain": [
       "{'query': 'News About the Ai agents',\n",
       " 'follow_up_questions': None,\n",
       " 'answer': None,\n",
       " 'images': [],\n",
       " 'results': [{'title': 'AI Agents News & Directory',\n",
       "   'url': 'https://ai-agents.news/',\n",
       "   'content': \"This website uses cookies CookieConsentStores the user's cookie consent state for the current domain Statistic cookies help website owners to understand how visitors interact with websites by collecting and reporting information anonymously. Marketing cookies are used to track visitors across websites. You can at any time change or withdraw your consent from the Cookie Declaration on our website. AI Agents News & Directory 🚀 AI Agents(18)Human in the Loop(1)LLM Platforms(2)AI Tools(42)Automation(17)Code Editors(6)Productivity(12)Local LLMs(1)AI Assistants(4)LLMs(4)Document Interaction(1)Chatbots(1)Data Analytics(1) AI Agents ### My AskAI My AskAI provides AI agents for customer support, integrating with existing tools like Intercom, Zendesk, or Freshdesk to deflect up to 75% of support requests. Subscribe to our newsletter for the latest AI agent updates.\",\n",
       "   'score': 0.7621591,\n",
       "   'raw_content': None},\n",
       "  {'title': 'From Microsoft to Nvidia, the AI agents are coming in 2025',\n",
       "   'url': 'https://finance.yahoo.com/news/from-microsoft-to-nvidia-the-ai-agents-are-coming-in-2025-141314094.html',\n",
       "   'content': 'Companies ranging from Nvidia (NVDA) and Google (GOOG, GOOGL) to Microsoft (MSFT) and Salesforce (CRM) are increasingly talking up agentic AI, a fancy way of referring to AI agents, claiming that it will change the way both enterprises and consumers think of AI technologies. Not only will we see more AI agents, we’ll see more major tech companies developing them. As with any new technology, using AI agents will take some getting used to. Ray Smith, Microsoft’s vice president of AI agents, says you can think of an AI copilot as your main interface for interacting with your chatbot or assistant. When you ask your chatbot or assistant to complete various tasks for you, it will reach out to the AI agents with the appropriate capabilities.',\n",
       "   'score': 0.6783488,\n",
       "   'raw_content': None}],\n",
       " 'response_time': 1.65}"
      ]
     },
     "execution_count": 18,
     "metadata": {},
     "output_type": "execute_result"
    }
   ],
   "source": [
    "search.invoke(\"News About the Ai agents\")"
   ]
  },
  {
   "cell_type": "code",
   "execution_count": 23,
   "id": "44d2f5b4-dcbe-4e96-9430-0e7f839a8f9b",
   "metadata": {},
   "outputs": [],
   "source": [
    "new_llm=init_chat_model(\"groq:llama3-70b-8192\")"
   ]
  },
  {
   "cell_type": "code",
   "execution_count": 22,
   "id": "3449c1aa-216a-4312-8701-b069513d12b7",
   "metadata": {},
   "outputs": [],
   "source": [
    "tools=[search]"
   ]
  },
  {
   "cell_type": "code",
   "execution_count": null,
   "id": "4b335484-556e-4faf-a13a-6506f3e0fa2e",
   "metadata": {},
   "outputs": [],
   "source": []
  },
  {
   "cell_type": "code",
   "execution_count": null,
   "id": "815d1184-5eed-4da5-8631-a16fe33ef645",
   "metadata": {},
   "outputs": [],
   "source": []
  },
  {
   "cell_type": "code",
   "execution_count": null,
   "id": "bffdbb98-d473-429f-bccf-bc53210a2062",
   "metadata": {},
   "outputs": [],
   "source": []
  },
  {
   "cell_type": "code",
   "execution_count": null,
   "id": "8f682d64-e50c-4f05-9cb3-079c0ec53d9b",
   "metadata": {},
   "outputs": [],
   "source": []
  },
  {
   "cell_type": "code",
   "execution_count": null,
   "id": "c06394a5-c4e9-4d88-8d2d-0b68260e87f8",
   "metadata": {},
   "outputs": [],
   "source": []
  },
  {
   "cell_type": "code",
   "execution_count": null,
   "id": "972ec386-cde9-477f-8b56-c1fde3d72294",
   "metadata": {},
   "outputs": [],
   "source": []
  },
  {
   "cell_type": "code",
   "execution_count": 24,
   "id": "c623d771-8ca0-402e-bd9f-b00c4835e45e",
   "metadata": {},
   "outputs": [],
   "source": [
    "tools=[search]"
   ]
  },
  {
   "cell_type": "code",
   "execution_count": 25,
   "id": "6a438fb3-ad12-4214-83bf-6d89a438dac3",
   "metadata": {},
   "outputs": [
    {
     "data": {
      "text/plain": [
       "RunnableBinding(bound=ChatGroq(client=<groq.resources.chat.completions.Completions object at 0x10d7cbe50>, async_client=<groq.resources.chat.completions.AsyncCompletions object at 0x10d772bf0>, model_name='llama3-70b-8192', model_kwargs={}, groq_api_key=SecretStr('**********')), kwargs={'tools': [{'type': 'function', 'function': {'name': 'tavily_search', 'description': 'A search engine optimized for comprehensive, accurate, and trusted results. Useful for when you need to answer questions about current events. It not only retrieves URLs and snippets, but offers advanced search depths, domain management, time range filters, and image search, this tool delivers real-time, accurate, and citation-backed results.Input should be a search query.', 'parameters': {'properties': {'query': {'description': 'Search query to look up', 'type': 'string'}, 'include_domains': {'anyOf': [{'items': {'type': 'string'}, 'type': 'array'}, {'type': 'null'}], 'default': [], 'description': 'A list of domains to restrict search results to.\\n\\n        Use this parameter when:\\n        1. The user explicitly requests information from specific websites (e.g., \"Find climate data from nasa.gov\")\\n        2. The user mentions an organization or company without specifying the domain (e.g., \"Find information about iPhones from Apple\")\\n\\n        In both cases, you should determine the appropriate domains (e.g., [\"nasa.gov\"] or [\"apple.com\"]) and set this parameter.\\n\\n        Results will ONLY come from the specified domains - no other sources will be included.\\n        Default is None (no domain restriction).\\n        '}, 'exclude_domains': {'anyOf': [{'items': {'type': 'string'}, 'type': 'array'}, {'type': 'null'}], 'default': [], 'description': 'A list of domains to exclude from search results.\\n\\n        Use this parameter when:\\n        1. The user explicitly requests to avoid certain websites (e.g., \"Find information about climate change but not from twitter.com\")\\n        2. The user mentions not wanting results from specific organizations without naming the domain (e.g., \"Find phone reviews but nothing from Apple\")\\n\\n        In both cases, you should determine the appropriate domains to exclude (e.g., [\"twitter.com\"] or [\"apple.com\"]) and set this parameter.\\n\\n        Results will filter out all content from the specified domains.\\n        Default is None (no domain exclusion).\\n        '}, 'search_depth': {'anyOf': [{'enum': ['basic', 'advanced'], 'type': 'string'}, {'type': 'null'}], 'default': 'basic', 'description': 'Controls search thoroughness and result comprehensiveness.\\n    \\n        Use \"basic\" for simple queries requiring quick, straightforward answers.\\n        \\n        Use \"advanced\" (default) for complex queries, specialized topics, \\n        rare information, or when in-depth analysis is needed.\\n        '}, 'include_images': {'anyOf': [{'type': 'boolean'}, {'type': 'null'}], 'default': False, 'description': 'Determines if the search returns relevant images along with text results.\\n   \\n        Set to True when the user explicitly requests visuals or when images would \\n        significantly enhance understanding (e.g., \"Show me what black holes look like,\" \\n        \"Find pictures of Renaissance art\").\\n        \\n        Leave as False (default) for most informational queries where text is sufficient.\\n        '}, 'time_range': {'anyOf': [{'enum': ['day', 'week', 'month', 'year'], 'type': 'string'}, {'type': 'null'}], 'default': None, 'description': 'Limits results to content published within a specific timeframe.\\n        \\n        ONLY set this when the user explicitly mentions a time period \\n        (e.g., \"latest AI news,\" \"articles from last week\").\\n        \\n        For less popular or niche topics, use broader time ranges \\n        (\"month\" or \"year\") to ensure sufficient relevant results.\\n   \\n        Options: \"day\" (24h), \"week\" (7d), \"month\" (30d), \"year\" (365d).\\n        \\n        Default is None.\\n        '}, 'topic': {'anyOf': [{'enum': ['general', 'news', 'finance'], 'type': 'string'}, {'type': 'null'}], 'default': 'general', 'description': 'Specifies search category for optimized results.\\n   \\n        Use \"general\" (default) for most queries, INCLUDING those with terms like \\n        \"latest,\" \"newest,\" or \"recent\" when referring to general information.\\n\\n        Use \"finance\" for markets, investments, economic data, or financial news.\\n\\n        Use \"news\" ONLY for politics, sports, or major current events covered by \\n        mainstream media - NOT simply because a query asks for \"new\" information.\\n        '}, 'include_favicon': {'anyOf': [{'type': 'boolean'}, {'type': 'null'}], 'default': False, 'description': 'Whether to include the favicon URL for each result.'}}, 'required': ['query'], 'type': 'object'}}}]}, config={}, config_factories=[])"
      ]
     },
     "execution_count": 25,
     "metadata": {},
     "output_type": "execute_result"
    }
   ],
   "source": [
    "new_llm.bind_tools(tools)"
   ]
  },
  {
   "cell_type": "code",
   "execution_count": 27,
   "id": "f7ed194a-0384-4deb-96ab-b1e9a599f12c",
   "metadata": {},
   "outputs": [],
   "source": [
    "from langgraph.prebuilt import ToolNode , tools_condition"
   ]
  },
  {
   "cell_type": "code",
   "execution_count": 28,
   "id": "93c30667-a960-4b32-bcfd-0c870f703882",
   "metadata": {},
   "outputs": [],
   "source": [
    "def llm_chatbot(state:State):\n",
    "    # invoke things\n",
    "    return {\"messages\":[llm.invoke(state[\"messages\"])]}"
   ]
  },
  {
   "cell_type": "code",
   "execution_count": 34,
   "id": "7eaaa862-1e26-4543-9fc1-3f650faa619c",
   "metadata": {},
   "outputs": [
    {
     "data": {
      "text/plain": [
       "<langgraph.graph.state.StateGraph at 0x10e68dff0>"
      ]
     },
     "execution_count": 34,
     "metadata": {},
     "output_type": "execute_result"
    }
   ],
   "source": [
    "new_graph=StateGraph(State)\n",
    "new_graph.add_node(\"llm-chat-tool\",llm_chatbot)\n",
    "new_graph.add_node(\"tools\",ToolNode(tools))\n",
    "new_graph.add_edge(START, \"llm-chat-tool\")\n",
    "new_graph.add_edge(\"llm-chat-tool\",\"tools\")\n",
    "new_graph.add_conditional_edges(\"llm-chat-tool\",tools_condition)\n",
    "new_graph.add_edge(\"llm-chat-tool\",END)"
   ]
  },
  {
   "cell_type": "code",
   "execution_count": 37,
   "id": "0bf81f4e-274d-493b-a5d7-53838f65e7ed",
   "metadata": {},
   "outputs": [],
   "source": [
    "compile_graph=new_graph.compile()"
   ]
  },
  {
   "cell_type": "code",
   "execution_count": 47,
   "id": "6ea58b66-8359-4b61-b69c-aa2cde9ecd06",
   "metadata": {},
   "outputs": [],
   "source": [
    "response1=compile_graph.invoke({\"messages\":\"Tell me about the news of the  ai agents market of 2025\"})"
   ]
  },
  {
   "cell_type": "code",
   "execution_count": 48,
   "id": "bb1ca66d-08c4-4eba-89c9-6095bd9c0b96",
   "metadata": {},
   "outputs": [
    {
     "data": {
      "text/plain": [
       "{'messages': [HumanMessage(content='Tell me about the news of the  ai agents market of 2025', additional_kwargs={}, response_metadata={}, id='4058d0f4-8c56-4e66-867c-b679e08532de'),\n",
       "  AIMessage(content=\"Here's an overview of the AI Agents market forecast for 2025:\\n\\n**Market Size and Growth:**\\n\\nThe global AI Agents market size is expected to reach USD 14.4 billion by 2025, growing at a Compound Annual Growth Rate (CAGR) of 33.7% during the forecast period (2020-2025). [1]\\n\\n**Key Drivers:**\\n\\n1. **Increasing Adoption of Chatbots**: The growing demand for chatbots across various industries, such as customer service, healthcare, and banking, is driving the growth of the AI Agents market.\\n2. **Rise of Virtual Assistants**: The increasing adoption of virtual assistants, such as Amazon Alexa, Google Assistant, and Apple Siri, is fueling the growth of the AI Agents market.\\n3. **Advancements in Natural Language Processing (NLP)**: Improvements in NLP are enabling AI Agents to better understand and respond to user queries, leading to increased adoption.\\n\\n**Segmentation:**\\n\\nThe AI Agents market can be segmented into:\\n\\n1. **Chatbots**: Expected to hold the largest market share, driven by their increasing adoption in customer service and e-commerce.\\n2. **Virtual Assistants**: Expected to grow at a high CAGR, driven by the increasing adoption of smart speakers and voice assistants.\\n3. **Agent-Based Modeling**: Expected to grow steadily, driven by its adoption in various industries, such as healthcare and finance.\\n\\n**Regional Analysis:**\\n\\n1. **North America**: Expected to dominate the market, driven by the presence of key players and high adoption of AI Agents in the region.\\n2. **Asia-Pacific**: Expected to grow at a high CAGR, driven by the increasing adoption of AI Agents in countries such as China, Japan, and India.\\n\\n**Key Players:**\\n\\n1. **IBM**: Offers Watson Assistant, a cloud-based AI platform for building conversational interfaces.\\n2. **Microsoft**: Offers Bot Framework, a set of tools for building conversational AI solutions.\\n3. **Google**: Offers Dialogflow, a platform for building conversational interfaces.\\n4. **Amazon**: Offers Lex, a service for building conversational interfaces.\\n\\n**Challenges:**\\n\\n1. **Lack of Standardization**: The lack of standardization in AI Agents can lead to interoperability issues and hinder market growth.\\n2. **Data Privacy and Security**: AI Agents handle sensitive user data, which can raise concerns about data privacy and security.\\n\\nOverall, the AI Agents market is expected to grow significantly in 2025, driven by increasing adoption in various industries and advancements in NLP. However, the market also faces challenges related to standardization and data privacy and security.\\n\\nReferences:\\n\\n[1] MarketsandMarkets - AI Agents Market by Type (Chatbots, Virtual Assistants, Agent-Based Modeling), Application (Customer Service, Marketing, Telemarketing), Industry (BFSI, Healthcare, Retail), and Region - Global Forecast to 2025\", additional_kwargs={}, response_metadata={'token_usage': {'completion_tokens': 598, 'prompt_tokens': 25, 'total_tokens': 623, 'completion_time': 1.708571429, 'prompt_time': 0.000749897, 'queue_time': 0.009797515000000001, 'total_time': 1.709321326}, 'model_name': 'llama3-70b-8192', 'system_fingerprint': 'fp_dd4ae1c591', 'finish_reason': 'stop', 'logprobs': None}, id='run--e4dd2b83-410b-46d1-9541-906e69a2a251-0', usage_metadata={'input_tokens': 25, 'output_tokens': 598, 'total_tokens': 623})]}"
      ]
     },
     "execution_count": 48,
     "metadata": {},
     "output_type": "execute_result"
    }
   ],
   "source": [
    "response1"
   ]
  },
  {
   "cell_type": "code",
   "execution_count": null,
   "id": "054dd7c3-e50c-40c0-af0b-7ec491bc6bf7",
   "metadata": {},
   "outputs": [],
   "source": []
  }
 ],
 "metadata": {
  "kernelspec": {
   "display_name": "Python 3 (ipykernel)",
   "language": "python",
   "name": "python3"
  },
  "language_info": {
   "codemirror_mode": {
    "name": "ipython",
    "version": 3
   },
   "file_extension": ".py",
   "mimetype": "text/x-python",
   "name": "python",
   "nbconvert_exporter": "python",
   "pygments_lexer": "ipython3",
   "version": "3.10.17"
  }
 },
 "nbformat": 4,
 "nbformat_minor": 5
}
